{
 "cells": [
  {
   "cell_type": "code",
   "execution_count": 2,
   "outputs": [
    {
     "name": "stdout",
     "output_type": "stream",
     "text": [
      "Values: 365\n",
      "Printed: 8760\n"
     ]
    }
   ],
   "source": [
    "amount = 24\n",
    "lines = []\n",
    "printed = 0\n",
    "\n",
    "with open('/Users/ardasovvadim/Desktop/input.txt', 'r') as inputFile:\n",
    "    lines = inputFile.readlines()\n",
    "    print(f'Values: {len(lines)}')\n",
    "\n",
    "outputFile = open('/Users/ardasovvadim/Desktop/output2.txt', 'w')\n",
    "\n",
    "for line in lines:\n",
    "    for _ in range(amount):\n",
    "        outputFile.writelines(line)\n",
    "        printed += 1\n",
    "\n",
    "outputFile.close()\n",
    "\n",
    "print(f'Printed: {printed}')"
   ],
   "metadata": {
    "collapsed": false
   }
  },
  {
   "cell_type": "code",
   "execution_count": 10,
   "outputs": [
    {
     "data": {
      "text/plain": "'83,99103179\\n'"
     },
     "execution_count": 10,
     "metadata": {},
     "output_type": "execute_result"
    }
   ],
   "source": [
    "lines[0]"
   ],
   "metadata": {
    "collapsed": false
   }
  },
  {
   "cell_type": "code",
   "execution_count": null,
   "outputs": [],
   "source": [],
   "metadata": {
    "collapsed": false
   }
  }
 ],
 "metadata": {
  "kernelspec": {
   "display_name": "Python 3",
   "language": "python",
   "name": "python3"
  },
  "language_info": {
   "codemirror_mode": {
    "name": "ipython",
    "version": 2
   },
   "file_extension": ".py",
   "mimetype": "text/x-python",
   "name": "python",
   "nbconvert_exporter": "python",
   "pygments_lexer": "ipython2",
   "version": "2.7.6"
  }
 },
 "nbformat": 4,
 "nbformat_minor": 0
}
